{
 "cells": [
  {
   "cell_type": "markdown",
   "metadata": {},
   "source": [
    "# TrafficDemandModel Demonstration\n",
    "\n",
    "This notebook demonstrates the direct usage of the `TrafficDemandModel` from the `radp.digital_twin.utils.traffic_demand_simulation` module. The `TrafficDemandModel` is responsible for generating User Equipment (UE) distributions over a simulated geographical area based on cell tower locations, defined spatial characteristics (e.g., residential, commercial areas), and time-varying demand profiles.\n",
    "\n",
    "**Key functionalities showcased:**\n",
    "1. Setting up a sample network topology.\n",
    "2. Defining spatial parameters (area types and their proportions).\n",
    "3. Defining temporal parameters (simulation duration and UE density weights per area type per tick).\n",
    "4. Instantiating and running the `TrafficDemandModel`.\n",
    "5. Inspecting the generated outputs: per-tick UE data and the fixed spatial layout.\n",
    "6. Basic visualization of UE distribution for a selected tick."
   ]
  },
  {
   "cell_type": "markdown",
   "metadata": {},
   "source": [
    "## 1. Setup and Imports\n",
    "\n",
    "First, we need to import necessary libraries and the `TrafficDemandModel` itself. Ensure that the `radp` library is accessible in your Python environment (e.g., by setting `PYTHONPATH` to include the `MAVERIC_ROOT` directory or by installing `radp`)."
   ]
  },
  {
   "cell_type": "code",
   "execution_count": null,
   "metadata": {},
   "outputs": [],
   "source": [
    "import pandas as pd\n",
    "import numpy as np\n",
    "import matplotlib.pyplot as plt\n",
    "import os\n",
    "import sys\n",
    "import json\n",
    "import logging\n",
    "\n",
    "# Setup logging for better output\n",
    "logging.basicConfig(level=logging.INFO, format='%(asctime)s - %(name)s - %(levelname)s - %(message)s')\n",
    "logger = logging.getLogger(\"NotebookDemo\")\n",
    "\n",
    "# --- Add MAVERIC_ROOT to Python path if radp is not installed ---\n",
    "# Adjust this path if your notebook is located elsewhere relative to the project root.\n",
    "MAVERIC_ROOT = os.path.abspath(os.path.join(os.getcwd(), \"..\")) # Assumes notebook is in maveric/notebooks/\n",
    "if MAVERIC_ROOT not in sys.path:\n",
    "    sys.path.insert(0, MAVERIC_ROOT)\n",
    "logger.info(f\"MAVERIC_ROOT considered as: {MAVERIC_ROOT}\")\n",
    "logger.info(f\"PYTHONPATH: {sys.path}\")\n",
    "\n",
    "try:\n",
    "    from radp.digital_twin.utils.traffic_demand_simulation import TrafficDemandModel\n",
    "    from radp.digital_twin.utils import constants as c # For column names\n",
    "    logger.info(\"Successfully imported TrafficDemandModel and constants from RADP.\")\n",
    "except ImportError as e:\n",
    "    logger.error(f\"Failed to import RADP modules: {e}\")\n",
    "    logger.error(\"Please ensure MAVERIC_ROOT is correctly set and points to the root of your Maveric project.\")\n",
    "    # You might need to restart the kernel after setting PYTHONPATH if it wasn't set before starting Jupyter."
   ]
  },
  {
   "cell_type": "markdown",
   "metadata": {},
   "source": [
    "## 2. Define Input Parameters\n",
    "\n",
    "We need to define:\n",
    "* A sample `topology_df`: DataFrame containing cell tower locations.\n",
    "* `spatial_params`: Dictionary defining area types and their proportions.\n",
    "* `time_params`: Dictionary defining simulation duration and UE density weights.\n",
    "* `num_ues_per_tick`: The target number of UEs to generate per tick."
   ]
  },
  {
   "cell_type": "code",
   "execution_count": null,
   "metadata": {},
   "outputs": [],
   "source": [
    "# Sample Topology Data (replace with your actual data if needed)\n",
    "# Ensure column names match what TrafficDemandModel expects (e.g., using radp.constants)\n",
    "COL_CELL_ID = getattr(c, 'CELL_ID', 'cell_id')\n",
    "COL_CELL_LAT = getattr(c, 'CELL_LAT', 'cell_lat')\n",
    "COL_CELL_LON = getattr(c, 'CELL_LON', 'cell_lon')\n",
    "\n",
    "topology_data = {\n",
    "    COL_CELL_ID: ['cell_1', 'cell_2', 'cell_3', 'cell_4', 'cell_5', 'cell_6'],\n",
    "    COL_CELL_LAT: [40.7128, 40.7135, 40.7150, 40.7120, 40.7100, 40.7145], # NYC area latitudes\n",
    "    COL_CELL_LON: [-74.0060, -74.0050, -74.0070, -74.0080, -74.0040, -74.0030]  # NYC area longitudes\n",
    "    # Add other columns like cell_az_deg, cell_txpwr_dbm if your model uses them internally,\n",
    "    # but for basic spatial layout, lat/lon are primary.\n",
    "}\n",
    "topology_df = pd.DataFrame(topology_data)\n",
    "logger.info(\"Sample Topology DataFrame:\")\n",
    "print(topology_df)\n",
    "\n",
    "# Spatial Parameters\n",
    "spatial_params = {\n",
    "    \"types\": [\"downtown\", \"residential_uptown\", \"park_area\"],\n",
    "    \"proportions\": [0.4, 0.4, 0.2] # Must sum to 1.0\n",
    "}\n",
    "logger.info(f\"\\nSpatial Parameters: {json.dumps(spatial_params, indent=2)}\")\n",
    "\n",
    "# Temporal Parameters\n",
    "total_ticks_sim = 5 # Simulate for 5 time steps\n",
    "time_params = {\n",
    "    \"total_ticks\": total_ticks_sim,\n",
    "    \"time_weights\": { # Relative UE density for each area type per tick\n",
    "        \"downtown\":           [0.2, 0.5, 0.8, 0.6, 0.3], # High during mid-ticks (daytime)\n",
    "        \"residential_uptown\": [0.6, 0.4, 0.1, 0.3, 0.5], # Higher during early/late ticks (morning/evening)\n",
    "        \"park_area\":          [0.2, 0.1, 0.1, 0.1, 0.2]  # Lower, consistent presence\n",
    "    }\n",
    "}\n",
    "logger.info(f\"\\nTime Parameters: {json.dumps(time_params, indent=2)}\")\n",
    "\n",
    "# Number of UEs per tick\n",
    "num_ues_per_tick = 200\n",
    "logger.info(f\"\\nTarget UEs per tick: {num_ues_per_tick}\")"
   ]
  },
  {
   "cell_type": "markdown",
   "metadata": {},
   "source": [
    "## 3. Instantiate and Run TrafficDemandModel"
   ]
  },
  {
   "cell_type": "code",
   "execution_count": null,
   "metadata": {},
   "outputs": [],
   "source": [
    "traffic_model_instance = TrafficDemandModel()\n",
    "\n",
    "logger.info(\"Running TrafficDemandModel.generate_traffic_demand()...\")\n",
    "ue_data_per_tick_output, spatial_layout_output = traffic_model_instance.generate_traffic_demand(\n",
    "    topology_df=topology_df,\n",
    "    spatial_params=spatial_params,\n",
    "    time_params=time_params,\n",
    "    num_ues_per_tick=num_ues_per_tick\n",
    ")\n",
    "\n",
    "logger.info(\"Traffic demand generation complete.\")"
   ]
  },
  {
   "cell_type": "markdown",
   "metadata": {},
   "source": [
    "## 4. Inspect Outputs\n",
    "\n",
    "### 4.1 Spatial Layout\n",
    "The `spatial_layout_output` is a list of dictionaries, where each dictionary describes a clipped Voronoi polygon (a spatial cell) with its geometric boundaries (`bounds`) and assigned area `type`."
   ]
  },
  {
   "cell_type": "code",
   "execution_count": null,
   "metadata": {},
   "outputs": [],
   "source": [
    "logger.info(f\"Generated {len(spatial_layout_output)} spatial cells in the layout.\")\n",
    "if spatial_layout_output:\n",
    "    logger.info(\"Details of the first spatial cell:\")\n",
    "    # Pretty print the first spatial cell\n",
    "    print(json.dumps(spatial_layout_output[0], indent=2, default=lambda x: str(x))) # Handle non-serializable if any\n",
    "else:\n",
    "    logger.warning(\"Spatial layout output is empty. This might indicate an issue with Voronoi generation (e.g., too few sites).\")"
   ]
  },
  {
   "cell_type": "markdown",
   "metadata": {},
   "source": [
    "### 4.2 UE Data Per Tick\n",
    "The `ue_data_per_tick_output` is a dictionary where keys are tick numbers and values are Pandas DataFrames containing UE locations (`lon`, `lat`), `ue_id` (unique within the tick), `tick` number, and the `space_type` where the UE was generated."
   ]
  },
  {
   "cell_type": "code",
   "execution_count": null,
   "metadata": {},
   "outputs": [],
   "source": [
    "COL_LON_NAME = getattr(c, 'LON', 'lon')\n",
    "COL_LAT_NAME = getattr(c, 'LAT', 'lat')\n",
    "\n",
    "logger.info(f\"Generated UE data for {len(ue_data_per_tick_output)} ticks.\")\n",
    "for tick, ue_df in ue_data_per_tick_output.items():\n",
    "    logger.info(f\"--- Tick {tick} ---\")\n",
    "    logger.info(f\"Number of UEs: {len(ue_df)}\")\n",
    "    if not ue_df.empty:\n",
    "        logger.info(f\"Columns: {ue_df.columns.tolist()}\")\n",
    "        logger.info(\"First 5 UEs:\")\n",
    "        print(ue_df.head())\n",
    "        # Verify space type distribution for this tick\n",
    "        if 'space_type' in ue_df.columns:\n",
    "            logger.info(\"UE count by space type for this tick:\")\n",
    "            print(ue_df['space_type'].value_counts())\n",
    "    else:\n",
    "        logger.info(\"No UEs generated for this tick.\")\n",
    "    print(\"\\n\") # Add a newline for readability"
   ]
  },
  {
   "cell_type": "markdown",
   "metadata": {},
   "source": [
    "## 5. Basic Visualization\n",
    "\n",
    "Let's create a simple scatter plot to visualize the UE distribution for a selected tick, along with the cell tower locations and the spatial layout boundaries."
   ]
  },
  {
   "cell_type": "code",
   "execution_count": null,
   "metadata": {},
   "outputs": [],
   "source": [
    "from shapely.geometry import Polygon as ShapelyPolygon # Avoid conflict if Polygon is used elsewhere\n",
    "from matplotlib.patches import Patch as MatplotlibPatch\n",
    "\n",
    "tick_to_plot = 0 # Choose a tick to visualize\n",
    "\n",
    "if tick_to_plot in ue_data_per_tick_output and not ue_data_per_tick_output[tick_to_plot].empty:\n",
    "    ue_df_plot = ue_data_per_tick_output[tick_to_plot]\n",
    "    \n",
    "    fig, ax = plt.subplots(figsize=(12, 10))\n",
    "    \n",
    "    # 1. Plot Spatial Layout Polygons\n",
    "    spatial_types_in_layout = sorted(list(set(cell['type'] for cell in spatial_layout_output)))\n",
    "    cmap_spaces = plt.get_cmap('tab10', len(spatial_types_in_layout))\n",
    "    space_colors = {stype: cmap_spaces(i) for i, stype in enumerate(spatial_types_in_layout)}\n",
    "    legend_patches_spatial = []\n",
    "\n",
    "    for cell_info in spatial_layout_output:\n",
    "        poly_coords = cell_info['bounds']\n",
    "        poly_type = cell_info['type']\n",
    "        polygon = ShapelyPolygon(poly_coords)\n",
    "        ax.plot(*polygon.exterior.xy, color='gray', alpha=0.7, linewidth=1, zorder=1) # Plot boundary\n",
    "        ax.fill(*polygon.exterior.xy, color=space_colors.get(poly_type, 'lightgray'), alpha=0.2, zorder=1) # Fill area\n",
    "        \n",
    "        # Add to legend only once per type\n",
    "        if not any(p.get_label() == poly_type.title() for p in legend_patches_spatial):\n",
    "            legend_patches_spatial.append(MatplotlibPatch(facecolor=space_colors.get(poly_type, 'lightgray'), \n",
    "                                                          alpha=0.3, label=poly_type.title()))\n",
    "            \n",
    "    # 2. Plot Cell Towers\n",
    "    ax.scatter(topology_df[COL_CELL_LON], topology_df[COL_CELL_LAT],\n",
    "               marker='^', c='black', s=100, label='Cell Towers', zorder=3)\n",
    "    \n",
    "    # 3. Plot UEs for the selected tick\n",
    "    # Color UEs by their 'space_type' for this demo\n",
    "    legend_patches_ue = []\n",
    "    plotted_ue_types_legend = set()\n",
    "\n",
    "    if 'space_type' in ue_df_plot.columns:\n",
    "        for ue_space_type, group_df in ue_df_plot.groupby('space_type'):\n",
    "            ax.scatter(group_df[COL_LON_NAME], group_df[COL_LAT_NAME], \n",
    "                       s=10, alpha=0.7, label=f'UEs ({ue_space_type})', \n",
    "                       color=space_colors.get(ue_space_type, 'blue'), zorder=2)\n",
    "            if ue_space_type not in plotted_ue_types_legend:\n",
    "                 legend_patches_ue.append(plt.Line2D([0], [0], marker='o', \n",
    "                                                    color=space_colors.get(ue_space_type, 'blue'), \n",
    "                                                    linestyle='', ms=5, label=f'UEs ({ue_space_type.title()})'))\n",
    "                 plotted_ue_types_legend.add(ue_space_type)\n",
    "    else: # Fallback if no space_type column\n",
    "        ax.scatter(ue_df_plot[COL_LON_NAME], ue_df_plot[COL_LAT_NAME], s=10, alpha=0.6, label='UEs', zorder=2)\n",
    "        legend_patches_ue.append(plt.Line2D([0], [0], marker='o', color='blue', linestyle='', ms=5, label='UEs'))\n",
    "        \n",
    "    ax.set_xlabel(\"Longitude\")\n",
    "    ax.set_ylabel(\"Latitude\")\n",
    "    ax.set_title(f\"UE Distribution and Spatial Layout (Tick {tick_to_plot})\")\n",
    "    \n",
    "    # Combine legends\n",
    "    all_legend_handles = [p for p in legend_patches_spatial] + \n",
    "                         [ax.collections[0]] + # For cell towers (assuming it's the first scatter)\n",
    "                         [p for p in legend_patches_ue]\n",
    "    # Filter out None if any legend element was not created\n",
    "    all_legend_handles = [h for h in all_legend_handles if h is not None]\n",
    "    \n",
    "    # Create legend outside plot area\n",
    "    ax.legend(handles=all_legend_handles, loc='center left', bbox_to_anchor=(1.02, 0.5), title=\"Legend\")\n",
    "    \n",
    "    plt.grid(True, linestyle='--', alpha=0.5)\n",
    "    plt.tight_layout(rect=[0, 0, 0.85, 1]) # Adjust layout to make space for legend\n",
    "    plt.show()\n",
    "else:\n",
    "    logger.warning(f\"No UE data found for tick {tick_to_plot}, or spatial layout is empty. Cannot generate plot.\")"
   ]
  },
  {
   "cell_type": "markdown",
   "metadata": {},
   "source": [
    "## 6. Conclusion\n",
    "\n",
    "This notebook demonstrated the basic workflow of using `TrafficDemandModel` to generate synthetic UE data. The model creates a fixed spatial representation of different area types based on Voronoi regions of cell towers and then populates these areas with UEs over several time ticks according to specified density profiles.\n",
    "\n",
    "The outputs (`ue_data_per_tick_output` and `spatial_layout_output`) can be used as inputs for further network simulations, CCO algorithm testing, or RL environment interactions."
   ]
  },
  {
   "cell_type": "code",
   "execution_count": null,
   "metadata": {},
   "outputs": [],
   "source": []
  }
 ],
 "metadata": {
  "kernelspec": {
   "display_name": "Python 3 (ipykernel)",
   "language": "python",
   "name": "python3"
  },
  "language_info": {
   "codemirror_mode": {
    "name": "ipython",
    "version": 3
   },
   "file_extension": ".py",
   "mimetype": "text/x-python",
   "name": "python",
   "nbconvert_exporter": "python",
   "pygments_lexer": "ipython3",
   "version": "3.9.12"
  }
 },
 "nbformat": 4,
 "nbformat_minor": 5
}
